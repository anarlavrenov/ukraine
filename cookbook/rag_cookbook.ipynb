{
  "nbformat": 4,
  "nbformat_minor": 0,
  "metadata": {
    "colab": {
      "provenance": []
    },
    "kernelspec": {
      "name": "python3",
      "display_name": "Python 3"
    },
    "language_info": {
      "name": "python"
    }
  },
  "cells": [
    {
      "cell_type": "markdown",
      "source": [
        "This notebook showcases `ukraine` library for building SOTA RAG agents. Below are examples of how to use `ukraine` library to build PDF RAG agents using OpenAI, Llama and DeepSeek language models 🐱"
      ],
      "metadata": {
        "id": "u4XA_TZF7VaJ"
      }
    },
    {
      "cell_type": "markdown",
      "source": [
        "Let's have a look at how to build RAG agent with `ukraine` library using Llama language model 🦙"
      ],
      "metadata": {
        "id": "GsRlE2SH88sn"
      }
    },
    {
      "cell_type": "code",
      "source": [
        "!pip install -U ukraine[langchain_llama]\n",
        "\n",
        "from ukraine.agents.rag import PDFLlamaRAGAgent\n",
        "import os\n",
        "\n",
        "# Make sure to provide your OpenAI API Key for OpenAI embedding model\n",
        "# and NVIDIA API Key for Llama language model\n",
        "os.environ[\"OPENAI_API_KEY\"] = \"OPENAI_API_KEY\"\n",
        "os.environ[\"NVIDIA_API_KEY\"] = \"NVIDIA_API_KEY\""
      ],
      "metadata": {
        "collapsed": true,
        "id": "EM8C328JCHRl"
      },
      "execution_count": null,
      "outputs": []
    },
    {
      "cell_type": "code",
      "source": [
        "# Please provide the existing path to your pdf file.\n",
        "# The system prompt can be really large and contain complex instructions.\n",
        "# Make sure to include '{context}' brackets at the end.\n",
        "agent = PDFLlamaRAGAgent(\n",
        "    file_path=\"PATH_TO_PDF\",\n",
        "    system_prompt=\"\"\"Provide answers based on the document.\"{context}\"\"\"\n",
        ")"
      ],
      "metadata": {
        "collapsed": true,
        "id": "KIWJsR2OIfOJ"
      },
      "execution_count": null,
      "outputs": []
    },
    {
      "cell_type": "code",
      "source": [
        "# Talk to your RAG agent and get results\n",
        "result = agent.chat(\"What is this document about?\")\n",
        "print(result[\"answer\"])"
      ],
      "metadata": {
        "id": "ht8PZ0SmU0qM"
      },
      "execution_count": null,
      "outputs": []
    },
    {
      "cell_type": "markdown",
      "source": [
        "RAG with OpenAI ֎"
      ],
      "metadata": {
        "id": "lbKN0gG-86Ic"
      }
    },
    {
      "cell_type": "code",
      "source": [
        "!pip install -U ukraine[langchain_openai]\n",
        "\n",
        "from ukraine.agents.rag import PDFOpenAIRAGAgent\n",
        "import os\n",
        "\n",
        "os.environ[\"OPENAI_API_KEY\"] = \"OPENAI_API_KEY\""
      ],
      "metadata": {
        "id": "dhni3Tai-snE"
      },
      "execution_count": null,
      "outputs": []
    },
    {
      "cell_type": "code",
      "source": [
        "agent = PDFOpenAIRAGAgent(\n",
        "    file_path=\"PATH_TO_PDF\",\n",
        "    system_prompt=\"\"\"Provide answers based on the document.\"{context}\"\"\"\n",
        ")"
      ],
      "metadata": {
        "id": "JGJrXkiY_Cha"
      },
      "execution_count": null,
      "outputs": []
    },
    {
      "cell_type": "code",
      "source": [
        "result = agent.chat(\"What is this document about?\")\n",
        "print(result[\"answer\"])"
      ],
      "metadata": {
        "id": "EwX7yVm5_E5t"
      },
      "execution_count": null,
      "outputs": []
    },
    {
      "cell_type": "markdown",
      "source": [
        "RAG with DeepSeek 🐋"
      ],
      "metadata": {
        "id": "hqi2yWfE_LKc"
      }
    },
    {
      "cell_type": "code",
      "source": [
        "!pip install -U ukraine[langchain_deepseek]\n",
        "\n",
        "from ukraine.agents.rag import PDFDeepSeekRAGAgent\n",
        "import os\n",
        "\n",
        "os.environ[\"DEEPSEEK_API_KEY\"] = \"DEEPSEEK_API_KEY\""
      ],
      "metadata": {
        "id": "vM330SfO_uNX"
      },
      "execution_count": null,
      "outputs": []
    },
    {
      "cell_type": "code",
      "source": [
        "agent = PDFDeepSeekRAGAgent(\n",
        "    file_path=\"PATH_TO_PDF\",\n",
        "    system_prompt=\"\"\"Provide answers based on the document.\"{context}\"\"\"\n",
        ")"
      ],
      "metadata": {
        "id": "9Qr2ll-BCtQJ"
      },
      "execution_count": null,
      "outputs": []
    },
    {
      "cell_type": "code",
      "source": [
        "result = agent.chat(\"What is this document about?\")\n",
        "print(result[\"answer\"])"
      ],
      "metadata": {
        "id": "NDOr-QmQCuLy"
      },
      "execution_count": null,
      "outputs": []
    }
  ]
}